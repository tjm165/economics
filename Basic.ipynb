{
 "cells": [
  {
   "cell_type": "markdown",
   "metadata": {},
   "source": [
    "# Marginal Utility and the Demand Curve"
   ]
  },
  {
   "cell_type": "markdown",
   "metadata": {},
   "source": [
    "Example\n",
    " - https://www.youtube.com/watch?v=oC8bU0Tc_v8 (simple)"
   ]
  },
  {
   "cell_type": "code",
   "execution_count": 16,
   "metadata": {},
   "outputs": [],
   "source": [
    "class Item:\n",
    "    def __init__(self, quantity_of_purchase: int, price_per_unit: int, marginal_utility: int):\n",
    "        self.quantity_of_purchase = quantity_of_purchase\n",
    "        self.price_per_unit = price_per_unit\n",
    "        self.marginal_utility = marginal_utility\n",
    "        \n",
    "    def num_to_buy(self) -> float:\n",
    "        return self.marginal_utility / self.price_per_unit\n",
    "        \n",
    "fudge = Item(10, 2, 12)\n",
    "coffee = Item(7, 4, 20)"
   ]
  },
  {
   "cell_type": "code",
   "execution_count": 20,
   "metadata": {},
   "outputs": [],
   "source": [
    "fudge_to_buy = fudge.num_to_buy()\n",
    "coffee_to_buy = coffee.num_to_buy()"
   ]
  },
  {
   "cell_type": "code",
   "execution_count": 21,
   "metadata": {},
   "outputs": [
    {
     "name": "stdout",
     "output_type": "stream",
     "text": [
      "6.0 5.0\n"
     ]
    }
   ],
   "source": [
    "print(fudge_to_buy, coffee_to_buy)"
   ]
  },
  {
   "cell_type": "markdown",
   "metadata": {},
   "source": [
    "Example. Drink vs Happy hour\n",
    "- https://www.youtube.com/watch?v=9jhlVK0ZyJw"
   ]
  },
  {
   "cell_type": "code",
   "execution_count": 34,
   "metadata": {},
   "outputs": [],
   "source": [
    "class ItemV2:\n",
    "    def __init__(self, quantity_of_purchase: int, price_per_unit: int):\n",
    "        self.quantity_of_purchase = quantity_of_purchase\n",
    "        self.price_per_unit = price_per_unit\n",
    "        \n",
    "    def marginal_utility_function(num_consumed: int) -> float:\n",
    "        raise NotImplementedError\n",
    "        \n",
    "    def num_to_buy(self, budget: int) -> float:\n",
    "        return self.marginal_utility_function() / self.price_per_unit"
   ]
  },
  {
   "cell_type": "code",
   "execution_count": 35,
   "metadata": {},
   "outputs": [],
   "source": [
    "class Beer(ItemV2):\n",
    "    def marginal_utility_function(num_consumed: int) -> float:\n",
    "        marginal_utilities = [0, 15, 20, 20, 12, 8, 3]\n",
    "        return marginal_utilities[num_consumed]"
   ]
  },
  {
   "cell_type": "code",
   "execution_count": null,
   "metadata": {},
   "outputs": [],
   "source": []
  }
 ],
 "metadata": {
  "kernelspec": {
   "display_name": "Python 3",
   "language": "python",
   "name": "python3"
  },
  "language_info": {
   "codemirror_mode": {
    "name": "ipython",
    "version": 3
   },
   "file_extension": ".py",
   "mimetype": "text/x-python",
   "name": "python",
   "nbconvert_exporter": "python",
   "pygments_lexer": "ipython3",
   "version": "3.7.4"
  }
 },
 "nbformat": 4,
 "nbformat_minor": 2
}
